{
 "cells": [
  {
   "cell_type": "markdown",
   "metadata": {},
   "source": [
    "## 导入模块"
   ]
  },
  {
   "cell_type": "code",
   "execution_count": 1,
   "metadata": {},
   "outputs": [],
   "source": [
    "import datetime\n",
    "\n",
    "import lightgbm as lgb\n",
    "import pandas as pd\n",
    "from sklearn.metrics import mean_squared_error"
   ]
  },
  {
   "cell_type": "code",
   "execution_count": null,
   "metadata": {},
   "outputs": [],
   "source": [
    "dataset_dir = \"../dataset\"\n",
    "\n",
    "train = pd.read_csv(f\"{dataset_dir}/train.csv\")\n",
    "test = pd.read_csv(f\"{dataset_dir}/test.csv\")"
   ]
  },
  {
   "cell_type": "markdown",
   "metadata": {},
   "source": [
    "## 特征工程"
   ]
  },
  {
   "cell_type": "code",
   "execution_count": null,
   "metadata": {},
   "outputs": [],
   "source": [
    "# 合并训练数据和测试数据\n",
    "data = pd.concat([train, test], axis=0).reset_index(drop=True)\n",
    "data = data.sort_values([\"id\", \"dt\"], ascending=False).reset_index(drop=True)\n",
    "\n",
    "# 历史平移\n",
    "for i in range(10, 36):\n",
    "    data[f\"target_shift{i}\"] = data.groupby(\"id\")[\"target\"].shift(i)\n",
    "\n",
    "# 历史平移 + 差分特征\n",
    "for i in range(1, 4):\n",
    "    data[f\"target_shift10_diff{i}\"] = data.groupby(\"id\")[\"target_shift10\"].diff(i)\n",
    "\n",
    "# 窗口统计\n",
    "for win in [15, 30, 50, 70]:\n",
    "    data[f\"target_win{win}_mean\"] = (\n",
    "        data.groupby(\"id\")[\"target\"]\n",
    "        .rolling(window=win, min_periods=3, closed=\"left\")\n",
    "        .mean()\n",
    "        .values\n",
    "    )\n",
    "    data[f\"target_win{win}_max\"] = (\n",
    "        data.groupby(\"id\")[\"target\"]\n",
    "        .rolling(window=win, min_periods=3, closed=\"left\")\n",
    "        .max()\n",
    "        .values\n",
    "    )\n",
    "    data[f\"target_win{win}_min\"] = (\n",
    "        data.groupby(\"id\")[\"target\"]\n",
    "        .rolling(window=win, min_periods=3, closed=\"left\")\n",
    "        .min()\n",
    "        .values\n",
    "    )\n",
    "    data[f\"target_win{win}_std\"] = (\n",
    "        data.groupby(\"id\")[\"target\"]\n",
    "        .rolling(window=win, min_periods=3, closed=\"left\")\n",
    "        .std()\n",
    "        .values\n",
    "    )\n",
    "\n",
    "# 历史平移 + 窗口统计\n",
    "for win in [7, 14, 28, 35, 50, 70]:\n",
    "    data[f\"target_shift10_win{win}_mean\"] = (\n",
    "        data.groupby(\"id\")[\"target_shift10\"]\n",
    "        .rolling(window=win, min_periods=3, closed=\"left\")\n",
    "        .mean()\n",
    "        .values\n",
    "    )\n",
    "    data[f\"target_shift10_win{win}_max\"] = (\n",
    "        data.groupby(\"id\")[\"target_shift10\"]\n",
    "        .rolling(window=win, min_periods=3, closed=\"left\")\n",
    "        .max()\n",
    "        .values\n",
    "    )\n",
    "    data[f\"target_shift10_win{win}_min\"] = (\n",
    "        data.groupby(\"id\")[\"target_shift10\"]\n",
    "        .rolling(window=win, min_periods=3, closed=\"left\")\n",
    "        .min()\n",
    "        .values\n",
    "    )\n",
    "    data[f\"target_shift10_win{win}_sum\"] = (\n",
    "        data.groupby(\"id\")[\"target_shift10\"]\n",
    "        .rolling(window=win, min_periods=3, closed=\"left\")\n",
    "        .sum()\n",
    "        .values\n",
    "    )\n",
    "    data[f\"target_shift710win{win}_std\"] = (\n",
    "        data.groupby(\"id\")[\"target_shift10\"]\n",
    "        .rolling(window=win, min_periods=3, closed=\"left\")\n",
    "        .std()\n",
    "        .values\n",
    "    )"
   ]
  },
  {
   "cell_type": "code",
   "execution_count": null,
   "metadata": {},
   "outputs": [],
   "source": [
    "# 进行数据切分\n",
    "train = data[data.target.notnull()].reset_index(drop=True)\n",
    "test = data[data.target.isnull()].reset_index(drop=True)\n",
    "\n",
    "# 确定输入特征\n",
    "train_cols = [f for f in data.columns if f not in [\"id\", \"target\"]]"
   ]
  },
  {
   "cell_type": "markdown",
   "metadata": {},
   "source": [
    "## 模型训练"
   ]
  },
  {
   "cell_type": "code",
   "execution_count": null,
   "metadata": {},
   "outputs": [],
   "source": [
    "def time_model(lgb, train_df, test_df, cols):\n",
    "    trn_x, trn_y = (\n",
    "        train_df[train_df.dt >= 31][cols],\n",
    "        train_df[train_df.dt >= 31][\"target\"],\n",
    "    )\n",
    "    val_x, val_y = (\n",
    "        train_df[train_df.dt <= 30][cols],\n",
    "        train_df[train_df.dt <= 30][\"target\"],\n",
    "    )\n",
    "\n",
    "    train_matrix = lgb.Dataset(trn_x, label=trn_y)\n",
    "    valid_matrix = lgb.Dataset(val_x, label=val_y)\n",
    "\n",
    "    params = {\n",
    "        \"objective\": \"regression\",\n",
    "        \"boosting_type\": \"gbdt\",\n",
    "        \"learning_rate\": 0.05,\n",
    "        \"num_leaves\": 2**5,\n",
    "        \"min_child_weight\": 5,\n",
    "        \"num_threads\": -1,\n",
    "        \"device_type\": \"cpu\",\n",
    "        \"seed\": 2024,\n",
    "        \"min_data_in_leaf\": 11,\n",
    "        \"min_sum_hessian_in_leaf\": 9,\n",
    "        \"bagging_fraction\": 0.8,\n",
    "        \"bagging_freq\": 4,\n",
    "        \"feature_fraction\": 0.8,\n",
    "        \"lambda_l2\": 10,\n",
    "        \"metric\": \"mse\",\n",
    "    }\n",
    "\n",
    "    model = lgb.train(\n",
    "        params,\n",
    "        train_matrix,\n",
    "        50000,\n",
    "        valid_sets=[train_matrix, valid_matrix],\n",
    "        categorical_feature=[],\n",
    "        callbacks=[\n",
    "            lgb.early_stopping(500),\n",
    "            lgb.log_evaluation(500),\n",
    "        ],\n",
    "    )\n",
    "\n",
    "    val_pred = model.predict(\n",
    "        val_x,\n",
    "        num_iteration=model.best_iteration,\n",
    "    )\n",
    "    test_pred = model.predict(\n",
    "        test_df[cols],\n",
    "        num_iteration=model.best_iteration,\n",
    "    )\n",
    "\n",
    "    score = mean_squared_error(val_pred, val_y)\n",
    "    print(score)\n",
    "\n",
    "    return val_pred, test_pred"
   ]
  },
  {
   "cell_type": "markdown",
   "metadata": {},
   "source": [
    "## 结果预测"
   ]
  },
  {
   "cell_type": "code",
   "execution_count": null,
   "metadata": {},
   "outputs": [],
   "source": [
    "lgb_oof, lgb_test = time_model(lgb, train, test, train_cols)"
   ]
  },
  {
   "cell_type": "code",
   "execution_count": null,
   "metadata": {},
   "outputs": [],
   "source": [
    "test[\"target\"] = lgb_test\n",
    "test[[\"id\", \"dt\", \"target\"]].to_csv(\n",
    "    (\"../submit/submit_\" + datetime.datetime.now().strftime(\"%Y%m%d_%H%M%S\") + \".csv\"),\n",
    "    index=False,\n",
    ")"
   ]
  }
 ],
 "metadata": {
  "kernelspec": {
   "display_name": ".venv",
   "language": "python",
   "name": "python3"
  },
  "language_info": {
   "codemirror_mode": {
    "name": "ipython",
    "version": 3
   },
   "file_extension": ".py",
   "mimetype": "text/x-python",
   "name": "python",
   "nbconvert_exporter": "python",
   "pygments_lexer": "ipython3",
   "version": "3.12.4"
  }
 },
 "nbformat": 4,
 "nbformat_minor": 2
}
