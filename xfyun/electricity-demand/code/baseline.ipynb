{
 "cells": [
  {
   "cell_type": "code",
   "execution_count": null,
   "metadata": {},
   "outputs": [],
   "source": [
    "# 1. 导入需要用到的相关库\n",
    "# 导入 pandas 库，用于数据处理和分析\n",
    "import pandas as pd\n",
    "\n",
    "# 2. 读取训练集和测试集\n",
    "# 使用 read_csv() 函数从文件中读取训练集数据，文件名为 'train.csv'\n",
    "train = pd.read_csv(\"../dataset/train.csv\")\n",
    "# 使用 read_csv() 函数从文件中读取测试集数据，文件名为 'test.csv'\n",
    "test = pd.read_csv(\"../dataset/test.csv\")\n",
    "\n",
    "# 3. 计算训练数据最近11-20单位时间内对应id的目标均值\n",
    "target_mean = train[train[\"dt\"] <= 20].groupby([\"id\"])[\"target\"].mean().reset_index()\n",
    "\n",
    "# 4. 将target_mean作为测试集结果进行合并\n",
    "test = test.merge(target_mean, on=[\"id\"], how=\"left\")\n",
    "\n",
    "# 5. 保存结果文件到本地\n",
    "test[[\"id\", \"dt\", \"target\"]].to_csv(\n",
    "    \"../submit/submit.csv\",\n",
    "    index=None,\n",
    ")"
   ]
  }
 ],
 "metadata": {
  "language_info": {
   "name": "python"
  }
 },
 "nbformat": 4,
 "nbformat_minor": 2
}
