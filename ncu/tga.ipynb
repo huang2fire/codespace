{
 "cells": [
  {
   "cell_type": "code",
   "execution_count": null,
   "metadata": {},
   "outputs": [],
   "source": [
    "import matplotlib.pyplot as plt\n",
    "import pandas as pd"
   ]
  },
  {
   "cell_type": "code",
   "execution_count": null,
   "metadata": {},
   "outputs": [],
   "source": [
    "data = pd.read_csv(\n",
    "    \"211/data.csv\",\n",
    "    sep=\",\",\n",
    "    skiprows=35,\n",
    "    engine=\"python\",\n",
    "    encoding=\"GBK\",\n",
    "    names=[\"Temp\",\"Time\",\"Mass\",\"Sensit\"]\n",
    ")\n",
    "\n",
    "T = data[\"Temp\"]\n",
    "MASS = data[\"Mass\"]"
   ]
  },
  {
   "cell_type": "code",
   "execution_count": null,
   "metadata": {},
   "outputs": [],
   "source": [
    "ERROR_TOL = [0.003, 0.0004, 0.0002, 0.0002]  # 误差阈值\n",
    "STD_RATE = [8.02, 29.78, 13.67, 21.01]  # 参考热重损失值\n",
    "\n",
    "# 寻找标记点\n",
    "points = []\n",
    "index = 0\n",
    "cmp_data = MASS[index]\n",
    "for i, current_mass in enumerate(MASS):\n",
    "    rate = cmp_data - current_mass\n",
    "    if abs(rate - STD_RATE[index]) < ERROR_TOL[index]:\n",
    "        points.append([T[i], MASS[i]])\n",
    "        cmp_data = current_mass\n",
    "        index += 1\n",
    "        if index == len(STD_RATE):\n",
    "            break"
   ]
  },
  {
   "cell_type": "code",
   "execution_count": null,
   "metadata": {},
   "outputs": [],
   "source": [
    "plt.figure(figsize=(8, 5))\n",
    "\n",
    "plt.plot(T, MASS)\n",
    "plt.hlines(MASS[0], T[0], points[0][0], colors=\"gray\", linestyles=\"-\")\n",
    "for i, (x, y) in enumerate(points):\n",
    "    plt.scatter(x, y, c=\"red\")\n",
    "    plt.hlines(\n",
    "        y,\n",
    "        x,\n",
    "        points[i + 1][0] if (i + 1) < len(points) else x,\n",
    "        colors=\"gray\",\n",
    "        linestyles=\"-\",\n",
    "    )\n",
    "    plt.vlines(\n",
    "        x,\n",
    "        y,\n",
    "        points[i - 1][1] if i > 0 else MASS[0],\n",
    "        colors=\"gray\",\n",
    "        linestyles=\"--\",\n",
    "    )\n",
    "\n",
    "    y_loc = (y + (MASS[0] if i == 0 else points[i - 1][1])) / 2\n",
    "    plt.text(x, y_loc, f\"-{STD_RATE[i]}%\")  # 标注参考热重损失值\n",
    "\n",
    "plt.xlabel(\"Temperature (°C)\")\n",
    "plt.ylabel(\"Thermogravimetric (%)\")\n",
    "plt.show()"
   ]
  },
  {
   "cell_type": "code",
   "execution_count": null,
   "metadata": {},
   "outputs": [],
   "source": [
    "%reset -f"
   ]
  },
  {
   "cell_type": "code",
   "execution_count": null,
   "metadata": {},
   "outputs": [],
   "source": [
    "import matplotlib.pyplot as plt\n",
    "import pandas as pd"
   ]
  },
  {
   "cell_type": "code",
   "execution_count": null,
   "metadata": {},
   "outputs": [],
   "source": [
    "data = pd.read_csv(\n",
    "    \"212/data.csv\",\n",
    "    sep=\",\",\n",
    "    skiprows=35,\n",
    "    engine=\"python\",\n",
    "    encoding=\"GBK\",\n",
    "    names=[\"Temp\",\"Time\",\"DSC\",\"Mass\",\"Sensit\"]\n",
    ")\n",
    "\n",
    "T = data[\"Temp\"]\n",
    "TIME = data[\"Time\"]\n",
    "DSC = data[\"DSC\"]\n",
    "MASS = data[\"Mass\"]"
   ]
  },
  {
   "cell_type": "code",
   "execution_count": null,
   "metadata": {},
   "outputs": [],
   "source": [
    "fig, ax1 = plt.subplots(figsize=(8, 5))\n",
    "\n",
    "color = \"tab:red\"\n",
    "ax1.set_xlabel(\"T (°C)\")\n",
    "ax1.set_ylabel(\"TG (%)\", color=color)\n",
    "ax1.plot(T, MASS, color=color)\n",
    "ax1.tick_params(axis=\"y\", labelcolor=color)\n",
    "\n",
    "ax2 = ax1.twinx()\n",
    "\n",
    "color = \"tab:blue\"\n",
    "ax2.set_ylabel(\"DSC (mW/mg)\", color=color)\n",
    "ax2.plot(T, DSC, color=color)\n",
    "ax2.tick_params(axis=\"y\", labelcolor=color)\n",
    "\n",
    "fig.tight_layout()\n",
    "plt.show()"
   ]
  },
  {
   "cell_type": "code",
   "execution_count": null,
   "metadata": {},
   "outputs": [],
   "source": [
    "fig, ax = plt.subplots(figsize=(8, 5))\n",
    "fig.subplots_adjust(right=0.75)\n",
    "\n",
    "twin1 = ax.twinx()\n",
    "twin2 = ax.twinx()\n",
    "\n",
    "twin2.spines.right.set_position((\"axes\", 1.2))\n",
    "\n",
    "(p1,) = ax.plot(TIME, MASS, \"C0\")\n",
    "(p2,) = twin1.plot(TIME, DSC, \"C1\")\n",
    "(p3,) = twin2.plot(TIME, T, \"C2\")\n",
    "\n",
    "ax.set(xlabel=\"Time (min)\", ylabel=\"TG (%)\")\n",
    "twin1.set(ylabel=\"DSC (mW/mg)\")\n",
    "twin2.set(ylabel=\"T (°C)\")\n",
    "\n",
    "ax.yaxis.label.set_color(p1.get_color())\n",
    "twin1.yaxis.label.set_color(p2.get_color())\n",
    "twin2.yaxis.label.set_color(p3.get_color())\n",
    "\n",
    "ax.tick_params(axis=\"y\", colors=p1.get_color())\n",
    "twin1.tick_params(axis=\"y\", colors=p2.get_color())\n",
    "twin2.tick_params(axis=\"y\", colors=p3.get_color())\n",
    "\n",
    "plt.show()"
   ]
  }
 ],
 "metadata": {
  "kernelspec": {
   "display_name": "sklearn",
   "language": "python",
   "name": "python3"
  },
  "language_info": {
   "codemirror_mode": {
    "name": "ipython",
    "version": 3
   },
   "file_extension": ".py",
   "mimetype": "text/x-python",
   "name": "python",
   "nbconvert_exporter": "python",
   "pygments_lexer": "ipython3",
   "version": "3.12.5"
  }
 },
 "nbformat": 4,
 "nbformat_minor": 2
}
