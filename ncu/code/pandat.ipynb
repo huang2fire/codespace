{
 "cells": [
  {
   "cell_type": "code",
   "execution_count": 6,
   "metadata": {},
   "outputs": [],
   "source": [
    "from pathlib import Path\n",
    "\n",
    "import pandas as pd\n",
    "import numpy as np\n",
    "import matplotlib.pyplot as plt"
   ]
  },
  {
   "cell_type": "code",
   "execution_count": 7,
   "metadata": {},
   "outputs": [],
   "source": [
    "plt.rcParams[\"font.size\"] = 16"
   ]
  },
  {
   "cell_type": "code",
   "execution_count": 8,
   "metadata": {},
   "outputs": [],
   "source": [
    "def process_file(file_path):\n",
    "    data = pd.read_csv(file_path, sep=\"\\t\")\n",
    "\n",
    "    data[\"dfs_dT\"] = np.abs(np.gradient(data[\"fs\"], data[\"T\"]))\n",
    "    fs_dot5_index = np.abs(data[\"fs\"] - 0.50).idxmin()\n",
    "    diamond_index = data[\"f_tot(@Diamond)\"].first_valid_index()\n",
    "\n",
    "    return {\n",
    "        \"T\": data[\"T\"],\n",
    "        \"fs\": data[\"fs\"],\n",
    "        \"w\": float(file_path.stem[0]),\n",
    "        \"delta_T_SL\": data[\"T\"].iloc[0] - data[\"T\"].iloc[-1],\n",
    "        \"dfs_dT\": data[\"dfs_dT\"].iloc[fs_dot5_index],\n",
    "        \"alpha_Al\": data[\"f_tot(@Fcc)\"].iloc[diamond_index - 1],\n",
    "        \"Mg2Si\": data[\"f_tot(@Mg2Si)\"].iloc[-1],\n",
    "    }"
   ]
  },
  {
   "cell_type": "code",
   "execution_count": null,
   "metadata": {},
   "outputs": [],
   "source": [
    "plt.figure(figsize=(16, 10))\n",
    "\n",
    "data_dir = Path(\"./data/0.5Mg\").glob(\"*.txt\")\n",
    "results = [process_file(file) for file in data_dir]\n",
    "\n",
    "df = pd.DataFrame(results)\n",
    "\n",
    "for result in results:\n",
    "    plt.plot(result[\"T\"], (1 - result[\"fs\"]) * 100, label=f\"Al-0.5Mg-{result['w']}\")\n",
    "\n",
    "plt.xlabel(\"Temperature ($^\\\\circ C$)\")\n",
    "plt.ylabel(\"Liquid Fraction (%)\")\n",
    "plt.legend()\n",
    "\n",
    "# plt.savefig(\"image/fig-fix_Mg-1.png\", dpi=200)\n",
    "plt.show()"
   ]
  },
  {
   "cell_type": "code",
   "execution_count": null,
   "metadata": {},
   "outputs": [],
   "source": [
    "fig, ax = plt.subplots(figsize=(16, 10))\n",
    "fig.subplots_adjust(right=0.65)\n",
    "\n",
    "twin1 = ax.twinx()\n",
    "twin2 = ax.twinx()\n",
    "twin3 = ax.twinx()\n",
    "\n",
    "twin2.spines.right.set_position((\"axes\", 1.2))\n",
    "twin3.spines.right.set_position((\"axes\", 1.4))\n",
    "\n",
    "(p1,) = ax.plot(\n",
    "    df[\"w\"],\n",
    "    df[\"delta_T_SL\"],\n",
    "    \"C0\",\n",
    "    marker=\"s\",\n",
    "    label=\"Solidification interval, $\\\\Delta T^{S/L}$\",\n",
    ")\n",
    "(p2,) = twin1.plot(\n",
    "    df[\"w\"],\n",
    "    df[\"dfs_dT\"],\n",
    "    \"C1\",\n",
    "    marker=\"^\",\n",
    "    label=\"$(dfs/dT)_{f=0.5}$\",\n",
    ")\n",
    "(p3,) = twin2.plot(\n",
    "    df[\"w\"],\n",
    "    df[\"alpha_Al\"] * 100,\n",
    "    \"C2\",\n",
    "    marker=\"o\",\n",
    "    label=\"$\\\\alpha-Al$ (%)\",\n",
    ")\n",
    "(p4,) = twin3.plot(\n",
    "    df[\"w\"],\n",
    "    df[\"Mg2Si\"] * 100,\n",
    "    \"C3\",\n",
    "    marker=\"d\",\n",
    "    label=\"$Mg_{2}Si$ (%)\",\n",
    ")\n",
    "\n",
    "ax.set(xlabel=\"w(Si) (%)\", ylabel=\"$\\\\Delta T^{S/L} (^{\\\\circ}C$)\")\n",
    "twin1.set(ylabel=\"$(dfs/dT)_{f=0.5} (K^{-1})$\")\n",
    "twin2.set(ylabel=\"$\\\\alpha-Al$ (%)\")\n",
    "twin3.set(ylabel=\"$Mg_{2}Si$ (%)\")\n",
    "\n",
    "ax.yaxis.label.set_color(p1.get_color())\n",
    "twin1.yaxis.label.set_color(p2.get_color())\n",
    "twin2.yaxis.label.set_color(p3.get_color())\n",
    "twin3.yaxis.label.set_color(p4.get_color())\n",
    "\n",
    "ax.tick_params(axis=\"y\", colors=p1.get_color())\n",
    "twin1.tick_params(axis=\"y\", colors=p2.get_color())\n",
    "twin2.tick_params(axis=\"y\", colors=p3.get_color())\n",
    "twin3.tick_params(axis=\"y\", colors=p4.get_color())\n",
    "\n",
    "ax.legend(loc=\"center left\")\n",
    "twin1.legend(loc=\"center right\", bbox_to_anchor=(1, 0.6))\n",
    "twin2.legend(loc=\"center right\", bbox_to_anchor=(1, 0.5))\n",
    "twin3.legend(loc=\"center right\", bbox_to_anchor=(1, 0.4))\n",
    "\n",
    "# plt.savefig(\"image/fig-fix_Mg-2.png\", dpi=200)\n",
    "plt.show()"
   ]
  }
 ],
 "metadata": {
  "kernelspec": {
   "display_name": "sklearn",
   "language": "python",
   "name": "python3"
  },
  "language_info": {
   "codemirror_mode": {
    "name": "ipython",
    "version": 3
   },
   "file_extension": ".py",
   "mimetype": "text/x-python",
   "name": "python",
   "nbconvert_exporter": "python",
   "pygments_lexer": "ipython3",
   "version": "3.12.5"
  }
 },
 "nbformat": 4,
 "nbformat_minor": 2
}
