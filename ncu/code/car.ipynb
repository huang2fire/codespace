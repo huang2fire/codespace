{
 "cells": [
  {
   "cell_type": "code",
   "execution_count": null,
   "metadata": {},
   "outputs": [],
   "source": [
    "import matplotlib.pyplot as plt\n",
    "import numpy as np\n",
    "\n",
    "plt.rcParams[\"font.sans-serif\"] = [\"SimSun\"]\n",
    "plt.rcParams[\"axes.unicode_minus\"] = False"
   ]
  },
  {
   "cell_type": "code",
   "execution_count": null,
   "metadata": {},
   "outputs": [],
   "source": [
    "n_min = 600  # 最低转速 (r/min)\n",
    "n_max = 4000  # 最高转速 (r/min)\n",
    "m = 3880  # 总质量 (kg)\n",
    "r = 0.367  # 车轮半径 (m)\n",
    "eta_T = 0.85  # 传动系机械效率\n",
    "f = 0.013  # 滚动阻力系数\n",
    "C_D_A = 2.77  # 空气阻力系数乘以迎风面积 (m^2)\n",
    "i_0 = 5.83  # 主减速器传动比\n",
    "I_f = 0.218  # 飞轮转动惯量 (kg·m^2)\n",
    "I_w1 = 1.798  # 二前轮转动惯量 (kg·m^2)\n",
    "I_w2 = 3.598  # 四后轮转动惯量 (kg·m^2)\n",
    "i_g_4 = np.array([6.09, 3.09, 1.71, 1.00])  # 4 档变速器传动比\n",
    "i_g_5 = np.array([5.56, 2.769, 1.644, 1.00, 0.793])  # 5 档变速器传动比"
   ]
  },
  {
   "cell_type": "code",
   "execution_count": null,
   "metadata": {},
   "outputs": [],
   "source": [
    "g = 10  # 重力加速度 (m/s^2)\n",
    "G = m * g  # 重力 (N)"
   ]
  },
  {
   "cell_type": "code",
   "execution_count": null,
   "metadata": {},
   "outputs": [],
   "source": [
    "n = np.arange(n_min, n_max + 1).reshape(-1, 1)  # 转速范围\n",
    "\n",
    "# 发动机转矩\n",
    "T_q = (\n",
    "    -19.313\n",
    "    + 295.27 * (n / 1000)\n",
    "    - 165.44 * (n / 1000) ** 2\n",
    "    + 40.874 * (n / 1000) ** 3\n",
    "    - 3.8445 * (n / 1000) ** 4\n",
    ")"
   ]
  },
  {
   "cell_type": "code",
   "execution_count": null,
   "metadata": {},
   "outputs": [],
   "source": [
    "# 汽车行驶速度\n",
    "u_a = 0.377 * r * n / (i_g_4 * i_0)\n",
    "\n",
    "# 汽车旋转质量换算系数 * 汽车质量\n",
    "delta_m = m + ((I_w1 + I_w2 )+ (I_f * (i_g_4**2) * (i_0**2) + eta_T)) / r**2"
   ]
  },
  {
   "cell_type": "code",
   "execution_count": null,
   "metadata": {},
   "outputs": [],
   "source": [
    "# 汽车的驱动力\n",
    "F_t = T_q * i_g_4 * i_0 * eta_T / r\n",
    "\n",
    "# 汽车的滚动阻力\n",
    "F_f = G * f\n",
    "\n",
    "# 汽车的空气阻力\n",
    "F_w = (C_D_A / 21.15) * u_a**2\n",
    "\n",
    "# 汽车的行驶加速度\n",
    "a = (F_t - F_f - F_w) / delta_m\n",
    "inv_a = np.reciprocal(a)  # 加速度倒数\n",
    "\n",
    "# 汽车能爬上的道路坡度角\n",
    "alpha = np.arcsin((F_t - F_f - F_w) / G)\n",
    "i = np.tan(alpha)  # 坡度值\n",
    "\n",
    "# 汽车的动力因数\n",
    "D = (F_t - F_w) / G\n",
    "\n",
    "# 发动机功率\n",
    "P_e = T_q * i_g_4 * i_0 * u_a / (r * 3600)\n",
    "\n",
    "# 阻力功率\n",
    "P_fw = ((G * f * u_a / 3600) + (C_D_A * u_a**3 / 76140)) / eta_T"
   ]
  },
  {
   "cell_type": "code",
   "execution_count": null,
   "metadata": {},
   "outputs": [],
   "source": [
    "# 图例\n",
    "labels = [f\"{idx+1}档\" for idx in range(i_g_4.size)]"
   ]
  },
  {
   "cell_type": "code",
   "execution_count": null,
   "metadata": {},
   "outputs": [],
   "source": [
    "# 图表1：汽车驱动力-行驶阻力平衡图\n",
    "plt.plot(u_a, F_t, label=labels)\n",
    "plt.plot(u_a, F_f + F_w, color=\"black\")\n",
    "plt.plot(u_a, np.full(a.shape, F_f), color=\"grey\")\n",
    "plt.xlabel(\"$u_{a} / (km/h)$\")\n",
    "plt.ylabel(\"$F_{t} / N , (F_{f}+F_{w}) / N$\")\n",
    "plt.title(\"汽车驱动力-行驶阻力平衡图\")\n",
    "plt.text(\n",
    "    u_a[-1, -1],\n",
    "    F_f + F_w[-1, -1],\n",
    "    \"$(F_f+F_w)$\",\n",
    "    ha=\"right\",\n",
    "    va=\"bottom\",\n",
    ")\n",
    "plt.text(\n",
    "    u_a[-1, -1],\n",
    "    F_f,\n",
    "    \"$F_f$\",\n",
    "    ha=\"right\",\n",
    "    va=\"bottom\",\n",
    ")\n",
    "plt.legend()"
   ]
  },
  {
   "cell_type": "code",
   "execution_count": null,
   "metadata": {},
   "outputs": [],
   "source": [
    "# 图表2：汽车的行驶加速度曲线\n",
    "plt.plot(u_a, a, label=labels)\n",
    "plt.xlabel(\"$u_{a} / (km/h)$\")\n",
    "plt.ylabel(\"$a / (m/s^{2})$\")\n",
    "plt.title(\"汽车的行驶加速度曲线\")\n",
    "plt.legend()"
   ]
  },
  {
   "cell_type": "code",
   "execution_count": null,
   "metadata": {},
   "outputs": [],
   "source": [
    "# 图表3：汽车的加速度倒数曲线\n",
    "plt.plot(u_a, inv_a, label=labels)\n",
    "plt.xlabel(\"$u_{a} / (km/h)$\")\n",
    "plt.ylabel(\"$\\\\frac{1}{a} / (s^{2}/m)$\")\n",
    "plt.title(\"汽车的加速度倒数曲线\")\n",
    "plt.legend()"
   ]
  },
  {
   "cell_type": "code",
   "execution_count": null,
   "metadata": {},
   "outputs": [],
   "source": [
    "# 图表4：汽车的爬坡度图\n",
    "plt.plot(u_a, i*100, label=labels)\n",
    "plt.xlabel(\"$u_{a} / (km/h)$\")\n",
    "plt.ylabel(\"$i(\\\\%)$\")\n",
    "plt.title(\"汽车的爬坡度图\")\n",
    "plt.legend()"
   ]
  },
  {
   "cell_type": "code",
   "execution_count": null,
   "metadata": {},
   "outputs": [],
   "source": [
    "# 图表5：汽车的动力特性图\n",
    "plt.plot(u_a, D, label=labels)\n",
    "plt.plot(u_a, np.full(a.shape, f), color=\"grey\")\n",
    "plt.xlabel(\"$u_{a} / (km/h)$\")\n",
    "plt.ylabel(\"$D$\")\n",
    "plt.title(\"汽车的动力特性图\")\n",
    "plt.legend()"
   ]
  },
  {
   "cell_type": "code",
   "execution_count": null,
   "metadata": {},
   "outputs": [],
   "source": [
    "# 图表6：汽车的功率平衡图\n",
    "plt.plot(u_a, P_e, label=labels)\n",
    "plt.plot(u_a, P_fw, color=\"black\")\n",
    "plt.xlabel(\"$u_{a} / (km/h)$\")\n",
    "plt.ylabel(\"$P_{e} / kW$\")\n",
    "plt.title(\"汽车的功率平衡图\")  #\n",
    "plt.text(\n",
    "    u_a[-1, -1],\n",
    "    P_fw[-1, -1],\n",
    "    \"$\\\\frac{P_{f}+P_{w}}{\\\\eta_{T}}$\",\n",
    "    ha=\"right\",\n",
    "    va=\"bottom\",\n",
    ")\n",
    "plt.legend()"
   ]
  }
 ],
 "metadata": {
  "kernelspec": {
   "display_name": "sklearn-env",
   "language": "python",
   "name": "python3"
  },
  "language_info": {
   "codemirror_mode": {
    "name": "ipython",
    "version": 3
   },
   "file_extension": ".py",
   "mimetype": "text/x-python",
   "name": "python",
   "nbconvert_exporter": "python",
   "pygments_lexer": "ipython3",
   "version": "3.12.5"
  }
 },
 "nbformat": 4,
 "nbformat_minor": 2
}
