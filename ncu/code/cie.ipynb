{
 "cells": [
  {
   "cell_type": "code",
   "execution_count": null,
   "metadata": {},
   "outputs": [],
   "source": [
    "import matplotlib.pyplot as plt\n",
    "import numpy as np\n",
    "import pandas as pd\n",
    "from shapely.geometry import LineString"
   ]
  },
  {
   "cell_type": "code",
   "execution_count": null,
   "metadata": {},
   "outputs": [],
   "source": [
    "plt.rcParams[\"font.sans-serif\"] = [\"SimSun\"]\n",
    "plt.rcParams[\"axes.unicode_minus\"] = False\n",
    "plt.rcParams[\"font.size\"] = 16"
   ]
  },
  {
   "cell_type": "code",
   "execution_count": null,
   "metadata": {},
   "outputs": [],
   "source": [
    "LIGHT_SOURCE = np.array([0.3101, 0.3162])\n",
    "SAMPLES = {\n",
    "    \"铁黄\": {\"loc\": np.array([0.4730, 0.4429]), \"color\": \"yellow\"},\n",
    "    \"深灰\": {\"loc\": np.array([0.3047, 0.3311]), \"color\": \"darkgray\"},\n",
    "}"
   ]
  },
  {
   "cell_type": "code",
   "execution_count": null,
   "metadata": {},
   "outputs": [],
   "source": [
    "data = pd.read_csv(\"data.txt\", sep=\"\\t\", header=0).dropna()"
   ]
  },
  {
   "cell_type": "code",
   "execution_count": null,
   "metadata": {},
   "outputs": [],
   "source": [
    "segments = [\n",
    "    LineString(\n",
    "        [\n",
    "            (data.iloc[i, 1], data.iloc[i, 2]),\n",
    "            (data.iloc[i + 1, 1], data.iloc[i + 1, 2]),\n",
    "        ]\n",
    "    )\n",
    "    for i in range(len(data) - 1)\n",
    "]"
   ]
  },
  {
   "cell_type": "code",
   "execution_count": null,
   "metadata": {},
   "outputs": [],
   "source": [
    "def find_intersection(ray_origin, direction_vector, segments):\n",
    "    ray = LineString([ray_origin, ray_origin + direction_vector * 1000])\n",
    "    for segment in segments:\n",
    "        intersection = ray.intersection(segment)\n",
    "        if not intersection.is_empty:\n",
    "            return np.array(intersection.xy).T[0]\n",
    "    return None"
   ]
  },
  {
   "cell_type": "code",
   "execution_count": null,
   "metadata": {},
   "outputs": [],
   "source": [
    "plt.figure(figsize=(16, 10))\n",
    "\n",
    "# 绘制色品图边界线段\n",
    "for segment in segments:\n",
    "    plt.plot(*segment.xy, c=\"#1f77b4\")\n",
    "    plt.text(\n",
    "        segment.xy[0][0],\n",
    "        segment.xy[1][0],\n",
    "        data[data[\"x\"] == segment.xy[0][0]][\"λ\"].values[0],\n",
    "    )\n",
    "\n",
    "# 绘制光源点\n",
    "plt.scatter(\n",
    "    LIGHT_SOURCE[0],\n",
    "    LIGHT_SOURCE[1],\n",
    "    s=150,\n",
    "    c=\"white\",\n",
    "    marker=\"o\",\n",
    "    edgecolors=\"black\",\n",
    "    label=\"白光\",\n",
    ")\n",
    "\n",
    "# 绘制样品点及其射线和交点\n",
    "for label, point in SAMPLES.items():\n",
    "    # 绘制样品点\n",
    "    plt.scatter(\n",
    "        point[\"loc\"][0],\n",
    "        point[\"loc\"][1],\n",
    "        s=150,\n",
    "        c=point[\"color\"],\n",
    "        marker=\"s\",\n",
    "        edgecolors=\"black\",\n",
    "        label=label,\n",
    "    )\n",
    "\n",
    "    direction_vector = point[\"loc\"] - LIGHT_SOURCE\n",
    "    intersection_point = find_intersection(LIGHT_SOURCE, direction_vector, segments)\n",
    "\n",
    "    # 输出交点坐标并绘制射线和交点\n",
    "    if intersection_point is not None:\n",
    "        print(\n",
    "            f\"{label} 交点坐标: {intersection_point[0]:.4f}, {intersection_point[1]:.4f}\"\n",
    "        )\n",
    "        plt.plot(\n",
    "            [LIGHT_SOURCE[0], intersection_point[0]],\n",
    "            [LIGHT_SOURCE[1], intersection_point[1]],\n",
    "            c=point[\"color\"],\n",
    "            label=f\"{label} 射线\",\n",
    "        )\n",
    "        plt.scatter(\n",
    "            intersection_point[0],\n",
    "            intersection_point[1],\n",
    "            s=150,\n",
    "            c=point[\"color\"],\n",
    "            marker=\"^\",\n",
    "            edgecolors=\"black\",\n",
    "            label=f\"{label} 交点\",\n",
    "        )\n",
    "\n",
    "plt.xlabel(\"$x$\")\n",
    "plt.ylabel(\"$y$\")\n",
    "plt.legend()\n",
    "\n",
    "plt.show()"
   ]
  }
 ],
 "metadata": {
  "kernelspec": {
   "display_name": "sklearn",
   "language": "python",
   "name": "python3"
  },
  "language_info": {
   "codemirror_mode": {
    "name": "ipython",
    "version": 3
   },
   "file_extension": ".py",
   "mimetype": "text/x-python",
   "name": "python",
   "nbconvert_exporter": "python",
   "pygments_lexer": "ipython3",
   "version": "3.12.5"
  }
 },
 "nbformat": 4,
 "nbformat_minor": 2
}
