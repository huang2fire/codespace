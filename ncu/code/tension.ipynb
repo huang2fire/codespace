{
 "cells": [
  {
   "cell_type": "code",
   "execution_count": null,
   "metadata": {},
   "outputs": [],
   "source": [
    "from pathlib import Path\n",
    "\n",
    "import matplotlib.pyplot as plt\n",
    "import pandas as pd"
   ]
  },
  {
   "cell_type": "code",
   "execution_count": null,
   "metadata": {},
   "outputs": [],
   "source": [
    "plt.rcParams[\"font.sans-serif\"] = [\"SimSun\"]\n",
    "plt.rcParams[\"axes.unicode_minus\"] = False\n",
    "plt.rcParams[\"font.size\"] = 16"
   ]
  },
  {
   "cell_type": "code",
   "execution_count": null,
   "metadata": {},
   "outputs": [],
   "source": [
    "plt.figure(figsize=(16, 10))\n",
    "\n",
    "# 获取当前目录下所有 .txt 文件的路径\n",
    "data_dir = Path.cwd().glob(\"*.txt\")\n",
    "\n",
    "for file_path in data_dir:\n",
    "    data = pd.read_csv(\n",
    "        file_path,\n",
    "        sep=\"\\t\",\n",
    "        skiprows=2,\n",
    "        skipfooter=1,\n",
    "        engine=\"python\",\n",
    "        names=[\"L\", \"F\"],\n",
    "    )\n",
    "    plt.plot(data[\"L\"], data[\"F\"], label=file_path.stem)\n",
    "\n",
    "plt.title(\"拉伸曲线\")\n",
    "plt.xlabel(\"$\\\\Delta L(mm)$\")\n",
    "plt.ylabel(\"$F(kN)$\")\n",
    "plt.legend()\n",
    "\n",
    "plt.savefig(\"拉伸曲线.png\", dpi=200)\n",
    "plt.show()"
   ]
  }
 ],
 "metadata": {
  "kernelspec": {
   "display_name": "sklearn-env",
   "language": "python",
   "name": "python3"
  },
  "language_info": {
   "codemirror_mode": {
    "name": "ipython",
    "version": 3
   },
   "file_extension": ".py",
   "mimetype": "text/x-python",
   "name": "python",
   "nbconvert_exporter": "python",
   "pygments_lexer": "ipython3",
   "version": "3.12.5"
  }
 },
 "nbformat": 4,
 "nbformat_minor": 2
}
