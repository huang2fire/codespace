{
 "cells": [
  {
   "cell_type": "markdown",
   "id": "cf267f10-c18a-493e-ac7f-b928b4eb30a1",
   "metadata": {},
   "source": [
    "# LoRA 样例脚本\n",
    "\n",
    "## 第一步：安装\n",
    "\n",
    "安装 Data-Juicer 和 DiffSynth-Studio"
   ]
  },
  {
   "cell_type": "code",
   "execution_count": null,
   "id": "bb954bbe-9ae1-4d3f-89a5-c6b732c0ff21",
   "metadata": {
    "ExecutionIndicator": {
     "show": true
    },
    "scrolled": true,
    "tags": []
   },
   "outputs": [],
   "source": [
    "!pip install simple-aesthetics-predictor\n",
    "!git clone https://github.com/modelscope/data-juicer.git\n",
    "!pip install -v -e data-juicer\n",
    "\n",
    "!pip uninstall pytorch-lightning -y\n",
    "!pip install peft lightning pandas torchvision\n",
    "!git clone https://github.com/modelscope/DiffSynth-Studio.git\n",
    "!pip install -e DiffSynth-Studio\n",
    "\n",
    "!pip install simple-aesthetics-predictor"
   ]
  },
  {
   "cell_type": "markdown",
   "id": "5f4ef1b9-ca7e-45b1-a9a2-530051f6c29a",
   "metadata": {
    "execution": {
     "iopub.execute_input": "2024-07-18T06:48:35.021311Z",
     "iopub.status.busy": "2024-07-18T06:48:35.020950Z",
     "iopub.status.idle": "2024-07-18T06:48:35.024752Z",
     "shell.execute_reply": "2024-07-18T06:48:35.023979Z",
     "shell.execute_reply.started": "2024-07-18T06:48:35.021289Z"
    }
   },
   "source": [
    "# 请在这里手动重启 Notebook kernel"
   ]
  },
  {
   "cell_type": "code",
   "execution_count": null,
   "id": "117f5880",
   "metadata": {},
   "outputs": [],
   "source": [
    "import json\n",
    "import os\n",
    "\n",
    "import numpy as np\n",
    "import pandas as pd\n",
    "import torch\n",
    "from aesthetics_predictor import AestheticsPredictorV2Linear\n",
    "from data_juicer.utils.mm_utils import SpecialTokens\n",
    "from diffsynth import ModelManager, SDXLImagePipeline, download_models\n",
    "from modelscope.msdatasets import MsDataset\n",
    "from peft import LoraConfig, inject_adapter_in_model\n",
    "from PIL import Image\n",
    "from tqdm import tqdm\n",
    "from transformers import CLIPProcessor\n",
    "\n",
    "from modelscope import snapshot_download"
   ]
  },
  {
   "cell_type": "markdown",
   "id": "48f8d0db-14b1-4dec-a488-7e7132c82620",
   "metadata": {},
   "source": [
    "## 第二步：下载数据集"
   ]
  },
  {
   "cell_type": "code",
   "execution_count": null,
   "id": "85067966-237e-4c1c-9e71-1381101a3fc7",
   "metadata": {
    "ExecutionIndicator": {
     "show": true
    },
    "tags": []
   },
   "outputs": [],
   "source": [
    "ds = MsDataset.load(\n",
    "    \"AI-ModelScope/lowres_anime\",\n",
    "    subset_name=\"default\",\n",
    "    split=\"train\",\n",
    "    cache_dir=\"/mnt/workspace/data\",\n",
    ")"
   ]
  },
  {
   "cell_type": "markdown",
   "id": "a189ae96-28b6-4dac-9d86-16a17bb6b6b8",
   "metadata": {},
   "source": [
    "保存数据集中的图片及元数据"
   ]
  },
  {
   "cell_type": "code",
   "execution_count": null,
   "id": "6bf5c24d-ba7d-481f-8c58-670f14c9ad8d",
   "metadata": {
    "ExecutionIndicator": {
     "show": true
    },
    "tags": []
   },
   "outputs": [],
   "source": [
    "os.makedirs(\"./data/lora_dataset/train\", exist_ok=True)\n",
    "os.makedirs(\"./data/data-juicer/input\", exist_ok=True)\n",
    "with open(\"./data/data-juicer/input/metadata.jsonl\", \"w\") as f:\n",
    "    for data_id, data in enumerate(tqdm(ds)):\n",
    "        image = data[\"image\"].convert(\"RGB\")\n",
    "        image.save(f\"/mnt/workspace/data/lora_dataset/train/{data_id}.jpg\")\n",
    "        metadata = {\n",
    "            \"text\": \"二次元\",\n",
    "            \"image\": [f\"/mnt/workspace/data/lora_dataset/train/{data_id}.jpg\"],\n",
    "        }\n",
    "        f.write(json.dumps(metadata))\n",
    "        f.write(\"\\n\")"
   ]
  },
  {
   "cell_type": "markdown",
   "id": "8a5d0d80-3f45-4212-929e-ea7e16e6a57c",
   "metadata": {
    "execution": {
     "iopub.execute_input": "2024-07-17T03:09:22.538525Z",
     "iopub.status.busy": "2024-07-17T03:09:22.538196Z",
     "iopub.status.idle": "2024-07-17T03:09:22.541304Z",
     "shell.execute_reply": "2024-07-17T03:09:22.540701Z",
     "shell.execute_reply.started": "2024-07-17T03:09:22.538505Z"
    }
   },
   "source": [
    "## 第三步：数据处理"
   ]
  },
  {
   "cell_type": "markdown",
   "id": "d0df27f6-84f9-4482-a187-81a0e2290b23",
   "metadata": {},
   "source": [
    "使用 data-juicer 处理数据"
   ]
  },
  {
   "cell_type": "code",
   "execution_count": null,
   "id": "1a114e94-ea9a-4391-be99-63cf7005a0b0",
   "metadata": {
    "ExecutionIndicator": {
     "show": false
    },
    "tags": []
   },
   "outputs": [],
   "source": [
    "data_juicer_config = \"\"\"\n",
    "# global parameters\n",
    "project_name: 'data-process'\n",
    "dataset_path: './data/data-juicer/input/metadata.jsonl'  # path to your dataset directory or file\n",
    "np: 4  # number of subprocess to process your dataset\n",
    "\n",
    "text_keys: 'text'\n",
    "image_key: 'image'\n",
    "image_special_token: '<__dj__image>'\n",
    "\n",
    "export_path: './data/data-juicer/output/result.jsonl'\n",
    "\n",
    "# process schedule\n",
    "# a list of several process operators with their arguments\n",
    "process:\n",
    "    - image_shape_filter:\n",
    "        min_width: 1024\n",
    "        min_height: 1024\n",
    "        any_or_all: any\n",
    "    - image_aspect_ratio_filter:\n",
    "        min_ratio: 0.5\n",
    "        max_ratio: 2.0\n",
    "        any_or_all: any\n",
    "\"\"\"\n",
    "with open(\"data/data-juicer/data_juicer_config.yaml\", \"w\") as file:\n",
    "    file.write(data_juicer_config.strip())"
   ]
  },
  {
   "cell_type": "code",
   "execution_count": null,
   "id": "418c1438",
   "metadata": {},
   "outputs": [],
   "source": [
    "!dj-process --config data/data-juicer/data_juicer_config.yaml"
   ]
  },
  {
   "cell_type": "markdown",
   "id": "9500e8d8-8320-4206-a0bb-ea8aa24b9787",
   "metadata": {},
   "source": [
    "保存处理好的数据"
   ]
  },
  {
   "cell_type": "code",
   "execution_count": null,
   "id": "61f29844-e438-4220-905d-acabc73e20ad",
   "metadata": {
    "ExecutionIndicator": {
     "show": true
    },
    "tags": []
   },
   "outputs": [],
   "source": [
    "texts, file_names = [], []\n",
    "os.makedirs(\"./data/lora_dataset_processed/train\", exist_ok=True)\n",
    "with open(\"./data/data-juicer/output/result.jsonl\", \"r\") as file:\n",
    "    for data_id, data in enumerate(tqdm(file.readlines())):\n",
    "        data = json.loads(data)\n",
    "        text = data[\"text\"]\n",
    "        texts.append(text)\n",
    "        image = Image.open(data[\"image\"][0])\n",
    "        image_path = f\"./data/lora_dataset_processed/train/{data_id}.jpg\"\n",
    "        image.save(image_path)\n",
    "        file_names.append(f\"{data_id}.jpg\")\n",
    "data_frame = pd.DataFrame()\n",
    "data_frame[\"file_name\"] = file_names\n",
    "data_frame[\"text\"] = texts\n",
    "data_frame.to_csv(\n",
    "    \"./data/lora_dataset_processed/train/metadata.csv\",\n",
    "    index=False,\n",
    "    encoding=\"utf-8-sig\",\n",
    ")\n",
    "data_frame"
   ]
  },
  {
   "cell_type": "markdown",
   "id": "d7468f6b-f254-4e2a-bfdb-18a5328a3a26",
   "metadata": {},
   "source": [
    "## 第四步：训练模型\n",
    "\n",
    "下载模型"
   ]
  },
  {
   "cell_type": "code",
   "execution_count": null,
   "id": "3ece72f7-dbdb-4679-8e55-56c2f6a71abc",
   "metadata": {
    "tags": []
   },
   "outputs": [],
   "source": [
    "download_models([\"Kolors\", \"SDXL-vae-fp16-fix\"])"
   ]
  },
  {
   "cell_type": "markdown",
   "id": "5f8671d8-a9ec-4a99-b9e5-f9d80e592c58",
   "metadata": {},
   "source": [
    "查看训练脚本的输入参数"
   ]
  },
  {
   "cell_type": "code",
   "execution_count": null,
   "id": "cd36b187-037d-4f70-a84c-675e0566bb93",
   "metadata": {
    "tags": []
   },
   "outputs": [],
   "source": [
    "!python DiffSynth-Studio/examples/train/kolors/train_kolors_lora.py -h"
   ]
  },
  {
   "cell_type": "markdown",
   "id": "d81f0af6-20d1-4fa2-b554-e1c28d4a4c86",
   "metadata": {},
   "source": [
    "开始训练\n",
    "\n",
    "提示：\n",
    "\n",
    "1. 在训练命令中填入 `--modelscope_model_id xxxxx` 以及 `--modelscope_access_token xxxxx` 后，训练程序会在结束时自动上传模型到 ModelScope\n",
    "2. 部分参数可根据实际需求调整，例如 `lora_rank` 可以控制 LoRA 模型的参数量"
   ]
  },
  {
   "cell_type": "code",
   "execution_count": null,
   "id": "0163491e-cb45-4ce8-b0d9-893d8741e993",
   "metadata": {
    "ExecutionIndicator": {
     "show": true
    },
    "tags": []
   },
   "outputs": [],
   "source": [
    "cmd = \"\"\"\n",
    "python DiffSynth-Studio/examples/train/kolors/train_kolors_lora.py \\\n",
    "  --pretrained_unet_path models/kolors/Kolors/unet/diffusion_pytorch_model.safetensors \\\n",
    "  --pretrained_text_encoder_path models/kolors/Kolors/text_encoder \\\n",
    "  --pretrained_fp16_vae_path models/sdxl-vae-fp16-fix/diffusion_pytorch_model.safetensors \\\n",
    "  --lora_rank 16 \\\n",
    "  --lora_alpha 4.0 \\\n",
    "  --dataset_path data/lora_dataset_processed \\\n",
    "  --output_path ./models \\\n",
    "  --max_epochs 1 \\\n",
    "  --center_crop \\\n",
    "  --use_gradient_checkpointing \\\n",
    "  --precision \"16-mixed\"\n",
    "\"\"\".strip()\n",
    "\n",
    "os.system(cmd)"
   ]
  },
  {
   "cell_type": "markdown",
   "id": "a369b485-55fc-4205-aca5-4fedf3dce9b1",
   "metadata": {
    "ExecutionIndicator": {
     "show": true
    },
    "tags": []
   },
   "source": [
    "加载模型"
   ]
  },
  {
   "cell_type": "code",
   "execution_count": null,
   "id": "e12b1f07-9214-4d72-8415-e0059957d0d4",
   "metadata": {
    "ExecutionIndicator": {
     "show": true
    },
    "tags": []
   },
   "outputs": [],
   "source": [
    "def load_lora(model, lora_rank, lora_alpha, lora_path):\n",
    "    lora_config = LoraConfig(\n",
    "        r=lora_rank,\n",
    "        lora_alpha=lora_alpha,\n",
    "        init_lora_weights=\"gaussian\",\n",
    "        target_modules=[\"to_q\", \"to_k\", \"to_v\", \"to_out\"],\n",
    "    )\n",
    "    model = inject_adapter_in_model(lora_config, model)\n",
    "    state_dict = torch.load(lora_path, map_location=\"cpu\")\n",
    "    model.load_state_dict(state_dict, strict=False)\n",
    "    return model\n",
    "\n",
    "\n",
    "# Load models\n",
    "model_manager = ModelManager(\n",
    "    torch_dtype=torch.float16,\n",
    "    device=\"cuda\",\n",
    "    file_path_list=[\n",
    "        \"models/kolors/Kolors/text_encoder\",\n",
    "        \"models/kolors/Kolors/unet/diffusion_pytorch_model.safetensors\",\n",
    "        \"models/kolors/Kolors/vae/diffusion_pytorch_model.safetensors\",\n",
    "    ],\n",
    ")\n",
    "pipe = SDXLImagePipeline.from_model_manager(model_manager)\n",
    "\n",
    "# Load LoRA\n",
    "pipe.unet = load_lora(\n",
    "    pipe.unet,\n",
    "    lora_rank=16,  # This parameter should be consistent with that in your training script.\n",
    "    lora_alpha=2.0,  # lora_alpha can control the weight of LoRA.\n",
    "    lora_path=\"models/lightning_logs/version_0/checkpoints/epoch=0-step=500.ckpt\",\n",
    ")"
   ]
  },
  {
   "cell_type": "markdown",
   "id": "ab8d0849-04b3-4000-9276-572ed87dfa33",
   "metadata": {},
   "source": [
    "生成图像"
   ]
  },
  {
   "cell_type": "code",
   "execution_count": null,
   "id": "94900db2-f0fb-41bc-8d23-366576f27b60",
   "metadata": {
    "ExecutionIndicator": {
     "show": true
    },
    "tags": []
   },
   "outputs": [],
   "source": [
    "torch.manual_seed(0)\n",
    "image = pipe(\n",
    "    prompt=\"二次元，一个紫色短发小女孩，在家中沙发上坐着，双手托着腮，很无聊，全身，粉色连衣裙\",\n",
    "    negative_prompt=\"丑陋、变形、嘈杂、模糊、低对比度\",\n",
    "    cfg_scale=4,\n",
    "    num_inference_steps=50,\n",
    "    height=1024,\n",
    "    width=1024,\n",
    ")\n",
    "image.save(\"1.jpg\")"
   ]
  },
  {
   "cell_type": "code",
   "execution_count": null,
   "id": "5ab076bc-b33f-44f4-87b4-03c9a50841d8",
   "metadata": {
    "ExecutionIndicator": {
     "show": true
    },
    "tags": []
   },
   "outputs": [],
   "source": [
    "torch.manual_seed(1)\n",
    "image = pipe(\n",
    "    prompt=\"二次元，日系动漫，演唱会的观众席，人山人海，一个紫色短发小女孩穿着粉色吊带漏肩连衣裙坐在演唱会的观众席，舞台上衣着华丽的歌星们在唱歌\",\n",
    "    negative_prompt=\"丑陋、变形、嘈杂、模糊、低对比度\",\n",
    "    cfg_scale=4,\n",
    "    num_inference_steps=50,\n",
    "    height=1024,\n",
    "    width=1024,\n",
    ")\n",
    "image.save(\"2.jpg\")"
   ]
  },
  {
   "cell_type": "code",
   "execution_count": null,
   "id": "73f6560e-5012-4957-b6b3-1ed1c76b57d8",
   "metadata": {
    "ExecutionIndicator": {
     "show": true
    },
    "tags": []
   },
   "outputs": [],
   "source": [
    "torch.manual_seed(2)\n",
    "image = pipe(\n",
    "    prompt=\"二次元，一个紫色短发小女孩穿着粉色吊带漏肩连衣裙坐在演唱会的观众席，露出憧憬的神情\",\n",
    "    negative_prompt=\"丑陋、变形、嘈杂、模糊、低对比度，色情擦边\",\n",
    "    cfg_scale=4,\n",
    "    num_inference_steps=50,\n",
    "    height=1024,\n",
    "    width=1024,\n",
    ")\n",
    "image.save(\"3.jpg\")"
   ]
  },
  {
   "cell_type": "code",
   "execution_count": null,
   "id": "0fa9cf0b-f5f0-49b5-99ca-8a1094df979a",
   "metadata": {
    "ExecutionIndicator": {
     "show": true
    },
    "tags": []
   },
   "outputs": [],
   "source": [
    "torch.manual_seed(5)\n",
    "image = pipe(\n",
    "    prompt=\"二次元，一个紫色短发小女孩穿着粉色吊带漏肩连衣裙，对着流星许愿，闭着眼睛，十指交叉，侧面\",\n",
    "    negative_prompt=\"丑陋、变形、嘈杂、模糊、低对比度，扭曲的手指，多余的手指\",\n",
    "    cfg_scale=4,\n",
    "    num_inference_steps=50,\n",
    "    height=1024,\n",
    "    width=1024,\n",
    ")\n",
    "image.save(\"4.jpg\")"
   ]
  },
  {
   "cell_type": "code",
   "execution_count": null,
   "id": "81806612-7683-4b91-bb45-3a352f500880",
   "metadata": {
    "ExecutionIndicator": {
     "show": true
    },
    "tags": []
   },
   "outputs": [],
   "source": [
    "torch.manual_seed(0)\n",
    "image = pipe(\n",
    "    prompt=\"二次元，一个紫色中等长度头发小女孩穿着粉色吊带漏肩连衣裙，在练习室练习唱歌\",\n",
    "    negative_prompt=\"丑陋、变形、嘈杂、模糊、低对比度\",\n",
    "    cfg_scale=4,\n",
    "    num_inference_steps=50,\n",
    "    height=1024,\n",
    "    width=1024,\n",
    ")\n",
    "image.save(\"5.jpg\")"
   ]
  },
  {
   "cell_type": "code",
   "execution_count": null,
   "id": "4e5c4c8d-97e4-4ab2-9d5a-b0c229b23be8",
   "metadata": {
    "ExecutionIndicator": {
     "show": true
    },
    "tags": []
   },
   "outputs": [],
   "source": [
    "torch.manual_seed(1)\n",
    "image = pipe(\n",
    "    prompt=\"二次元，一个紫色长发小女孩穿着粉色吊带漏肩连衣裙，在练习室练习唱歌，手持话筒\",\n",
    "    negative_prompt=\"丑陋、变形、嘈杂、模糊、低对比度\",\n",
    "    cfg_scale=4,\n",
    "    num_inference_steps=50,\n",
    "    height=1024,\n",
    "    width=1024,\n",
    ")\n",
    "image.save(\"6.jpg\")"
   ]
  },
  {
   "cell_type": "code",
   "execution_count": null,
   "id": "3ffd2e09-dc14-4e33-a203-da7eb7ae8cb1",
   "metadata": {
    "ExecutionIndicator": {
     "show": true
    },
    "tags": []
   },
   "outputs": [],
   "source": [
    "torch.manual_seed(7)\n",
    "image = pipe(\n",
    "    prompt=\"二次元，紫色长发少女，穿着黑色连衣裙，试衣间，心情忐忑\",\n",
    "    negative_prompt=\"丑陋、变形、嘈杂、模糊、低对比度\",\n",
    "    cfg_scale=4,\n",
    "    num_inference_steps=50,\n",
    "    height=1024,\n",
    "    width=1024,\n",
    ")\n",
    "image.save(\"7.jpg\")"
   ]
  },
  {
   "cell_type": "code",
   "execution_count": null,
   "id": "11659ced-351f-4306-a58c-7ae7e7220dc6",
   "metadata": {
    "ExecutionIndicator": {
     "show": true
    },
    "tags": []
   },
   "outputs": [],
   "source": [
    "torch.manual_seed(0)\n",
    "image = pipe(\n",
    "    prompt=\"二次元，紫色长发少女，穿着黑色礼服，连衣裙，在台上唱歌\",\n",
    "    negative_prompt=\"丑陋、变形、嘈杂、模糊、低对比度\",\n",
    "    cfg_scale=4,\n",
    "    num_inference_steps=50,\n",
    "    height=1024,\n",
    "    width=1024,\n",
    ")\n",
    "image.save(\"8.jpg\")"
   ]
  },
  {
   "cell_type": "code",
   "execution_count": null,
   "id": "5cfb2c8b-6f38-48cb-a4cc-f31b64bc93e9",
   "metadata": {
    "ExecutionIndicator": {
     "show": true
    },
    "execution": {
     "iopub.execute_input": "2024-07-29T07:31:15.891773Z",
     "iopub.status.busy": "2024-07-29T07:31:15.891456Z",
     "iopub.status.idle": "2024-07-29T07:31:16.513105Z",
     "shell.execute_reply": "2024-07-29T07:31:16.512634Z",
     "shell.execute_reply.started": "2024-07-29T07:31:15.891752Z"
    },
    "tags": []
   },
   "outputs": [],
   "source": [
    "images = [np.array(Image.open(f\"{i}.jpg\")) for i in range(1, 9)]\n",
    "image = np.concatenate(\n",
    "    [\n",
    "        np.concatenate(images[0:2], axis=1),\n",
    "        np.concatenate(images[2:4], axis=1),\n",
    "        np.concatenate(images[4:6], axis=1),\n",
    "        np.concatenate(images[6:8], axis=1),\n",
    "    ],\n",
    "    axis=0,\n",
    ")\n",
    "image = Image.fromarray(image).resize((1024, 2048))\n",
    "image"
   ]
  },
  {
   "cell_type": "markdown",
   "id": "f2ab73ab",
   "metadata": {},
   "source": [
    "美学评分"
   ]
  },
  {
   "cell_type": "code",
   "execution_count": null,
   "id": "887fc836",
   "metadata": {},
   "outputs": [],
   "source": [
    "!mv *.jpg ./images"
   ]
  },
  {
   "cell_type": "code",
   "execution_count": null,
   "id": "b42bde78",
   "metadata": {},
   "outputs": [],
   "source": [
    "model_id = snapshot_download(\n",
    "    \"AI-ModelScope/aesthetics-predictor-v2-sac-logos-ava1-l14-linearMSE\",\n",
    "    cache_dir=\"models/\",\n",
    ")\n",
    "predictor = AestheticsPredictorV2Linear.from_pretrained(model_id)\n",
    "processor = CLIPProcessor.from_pretrained(model_id)\n",
    "device = \"cuda\"\n",
    "predictor = predictor.to(device)\n",
    "\n",
    "\n",
    "def get_aesthetics_score(image):\n",
    "    inputs = processor(images=image, return_tensors=\"pt\")\n",
    "    inputs = {k: v.to(device) for k, v in inputs.items()}\n",
    "    with torch.no_grad():\n",
    "        outputs = predictor(**inputs)\n",
    "    prediction = outputs.logits\n",
    "    return prediction.tolist()[0][0]\n",
    "\n",
    "\n",
    "def evaluate(folder):\n",
    "    scores = []\n",
    "    for file_name in os.listdir(folder):\n",
    "        if os.path.isfile(os.path.join(folder, file_name)):\n",
    "            image = Image.open(os.path.join(folder, file_name))\n",
    "            scores.append(get_aesthetics_score(image))\n",
    "    if len(scores) == 0:\n",
    "        return 0\n",
    "    else:\n",
    "        return sum(scores) / len(scores)\n",
    "\n",
    "\n",
    "score = evaluate(\"./images\")\n",
    "print(score)"
   ]
  }
 ],
 "metadata": {
  "kernelspec": {
   "display_name": "Python 3 (ipykernel)",
   "language": "python",
   "name": "python3"
  },
  "language_info": {
   "codemirror_mode": {
    "name": "ipython",
    "version": 3
   },
   "file_extension": ".py",
   "mimetype": "text/x-python",
   "name": "python",
   "nbconvert_exporter": "python",
   "pygments_lexer": "ipython3",
   "version": "3.10.14"
  }
 },
 "nbformat": 4,
 "nbformat_minor": 5
}
